{
 "cells": [
  {
   "cell_type": "code",
   "execution_count": 2,
   "metadata": {},
   "outputs": [],
   "source": [
    "import pandas as pd\n",
    "import sqlite3"
   ]
  },
  {
   "cell_type": "code",
   "execution_count": 3,
   "metadata": {},
   "outputs": [],
   "source": [
    "con=sqlite3.connect(\"imdb_movies.db\")"
   ]
  },
  {
   "cell_type": "code",
   "execution_count": 4,
   "metadata": {},
   "outputs": [
    {
     "data": {
      "text/plain": [
       "1000"
      ]
     },
     "execution_count": 4,
     "metadata": {},
     "output_type": "execute_result"
    }
   ],
   "source": [
    "cleaned_data=pd.read_csv(\"Cleaned_imdb_movies.csv\")\n",
    "cleaned_data.to_sql(\"movies\",con, if_exists='replace', index=False)"
   ]
  },
  {
   "cell_type": "code",
   "execution_count": 5,
   "metadata": {},
   "outputs": [
    {
     "data": {
      "application/vnd.microsoft.datawrangler.viewer.v0+json": {
       "columns": [
        {
         "name": "index",
         "rawType": "int64",
         "type": "integer"
        },
        {
         "name": "type",
         "rawType": "object",
         "type": "string"
        },
        {
         "name": "name",
         "rawType": "object",
         "type": "string"
        },
        {
         "name": "tbl_name",
         "rawType": "object",
         "type": "string"
        },
        {
         "name": "rootpage",
         "rawType": "int64",
         "type": "integer"
        },
        {
         "name": "sql",
         "rawType": "object",
         "type": "string"
        }
       ],
       "conversionMethod": "pd.DataFrame",
       "ref": "8b952ac0-de6a-45bf-a04d-2247dd18d7bb",
       "rows": [
        [
         "0",
         "table",
         "movies",
         "movies",
         "2",
         "CREATE TABLE \"movies\" (\n\"Unnamed: 0\" INTEGER,\n  \"Series_Title\" TEXT,\n  \"Released_Year\" TEXT,\n  \"Certificate\" TEXT,\n  \"Runtime\" TEXT,\n  \"Genre\" TEXT,\n  \"IMDB_Rating\" REAL,\n  \"Meta_score\" REAL,\n  \"Director\" TEXT,\n  \"Star1\" TEXT,\n  \"Star2\" TEXT,\n  \"Star3\" TEXT,\n  \"Gross\" TEXT\n)"
        ]
       ],
       "shape": {
        "columns": 5,
        "rows": 1
       }
      },
      "text/html": [
       "<div>\n",
       "<style scoped>\n",
       "    .dataframe tbody tr th:only-of-type {\n",
       "        vertical-align: middle;\n",
       "    }\n",
       "\n",
       "    .dataframe tbody tr th {\n",
       "        vertical-align: top;\n",
       "    }\n",
       "\n",
       "    .dataframe thead th {\n",
       "        text-align: right;\n",
       "    }\n",
       "</style>\n",
       "<table border=\"1\" class=\"dataframe\">\n",
       "  <thead>\n",
       "    <tr style=\"text-align: right;\">\n",
       "      <th></th>\n",
       "      <th>type</th>\n",
       "      <th>name</th>\n",
       "      <th>tbl_name</th>\n",
       "      <th>rootpage</th>\n",
       "      <th>sql</th>\n",
       "    </tr>\n",
       "  </thead>\n",
       "  <tbody>\n",
       "    <tr>\n",
       "      <th>0</th>\n",
       "      <td>table</td>\n",
       "      <td>movies</td>\n",
       "      <td>movies</td>\n",
       "      <td>2</td>\n",
       "      <td>CREATE TABLE \"movies\" (\\n\"Unnamed: 0\" INTEGER,...</td>\n",
       "    </tr>\n",
       "  </tbody>\n",
       "</table>\n",
       "</div>"
      ],
      "text/plain": [
       "    type    name tbl_name  rootpage  \\\n",
       "0  table  movies   movies         2   \n",
       "\n",
       "                                                 sql  \n",
       "0  CREATE TABLE \"movies\" (\\n\"Unnamed: 0\" INTEGER,...  "
      ]
     },
     "execution_count": 5,
     "metadata": {},
     "output_type": "execute_result"
    }
   ],
   "source": [
    "new_data=pd.read_sql(\"\"\"select * from sqlite_master\"\"\",con)\n",
    "new_data"
   ]
  },
  {
   "cell_type": "code",
   "execution_count": 6,
   "metadata": {},
   "outputs": [
    {
     "data": {
      "application/vnd.microsoft.datawrangler.viewer.v0+json": {
       "columns": [
        {
         "name": "index",
         "rawType": "int64",
         "type": "integer"
        },
        {
         "name": "Unnamed: 0",
         "rawType": "int64",
         "type": "integer"
        },
        {
         "name": "Series_Title",
         "rawType": "object",
         "type": "string"
        },
        {
         "name": "Released_Year",
         "rawType": "object",
         "type": "string"
        },
        {
         "name": "Certificate",
         "rawType": "object",
         "type": "string"
        },
        {
         "name": "Runtime",
         "rawType": "object",
         "type": "string"
        },
        {
         "name": "Genre",
         "rawType": "object",
         "type": "string"
        },
        {
         "name": "IMDB_Rating",
         "rawType": "float64",
         "type": "float"
        },
        {
         "name": "Meta_score",
         "rawType": "float64",
         "type": "float"
        },
        {
         "name": "Director",
         "rawType": "object",
         "type": "string"
        },
        {
         "name": "Star1",
         "rawType": "object",
         "type": "string"
        },
        {
         "name": "Star2",
         "rawType": "object",
         "type": "string"
        },
        {
         "name": "Star3",
         "rawType": "object",
         "type": "string"
        },
        {
         "name": "Gross",
         "rawType": "object",
         "type": "string"
        }
       ],
       "conversionMethod": "pd.DataFrame",
       "ref": "41a03c54-4840-4447-87f3-3549443e01f7",
       "rows": [
        [
         "0",
         "0",
         "The Shawshank Redemption",
         "1994",
         "A",
         "142 min",
         "Drama",
         "9.3",
         "80.0",
         "Frank Darabont",
         "Tim Robbins",
         "Morgan Freeman",
         "Bob Gunton",
         "28,341,469"
        ],
        [
         "1",
         "1",
         "The Godfather",
         "1972",
         "A",
         "175 min",
         "Crime, Drama",
         "9.2",
         "100.0",
         "Francis Ford Coppola",
         "Marlon Brando",
         "Al Pacino",
         "James Caan",
         "134,966,411"
        ],
        [
         "2",
         "2",
         "The Dark Knight",
         "2008",
         "UA",
         "152 min",
         "Action, Crime, Drama",
         "9.0",
         "84.0",
         "Christopher Nolan",
         "Christian Bale",
         "Heath Ledger",
         "Aaron Eckhart",
         "534,858,444"
        ],
        [
         "3",
         "3",
         "The Godfather: Part II",
         "1974",
         "A",
         "202 min",
         "Crime, Drama",
         "9.0",
         "90.0",
         "Francis Ford Coppola",
         "Al Pacino",
         "Robert De Niro",
         "Robert Duvall",
         "57,300,000"
        ],
        [
         "4",
         "4",
         "12 Angry Men",
         "1957",
         "U",
         "96 min",
         "Crime, Drama",
         "9.0",
         "96.0",
         "Sidney Lumet",
         "Henry Fonda",
         "Lee J. Cobb",
         "Martin Balsam",
         "4,360,000"
        ],
        [
         "5",
         "5",
         "The Lord of the Rings: The Return of the King",
         "2003",
         "U",
         "201 min",
         "Action, Adventure, Drama",
         "8.9",
         "94.0",
         "Peter Jackson",
         "Elijah Wood",
         "Viggo Mortensen",
         "Ian McKellen",
         "377,845,905"
        ],
        [
         "6",
         "6",
         "Pulp Fiction",
         "1994",
         "A",
         "154 min",
         "Crime, Drama",
         "8.9",
         "94.0",
         "Quentin Tarantino",
         "John Travolta",
         "Uma Thurman",
         "Samuel L. Jackson",
         "107,928,762"
        ],
        [
         "7",
         "7",
         "Schindler's List",
         "1993",
         "A",
         "195 min",
         "Biography, Drama, History",
         "8.9",
         "94.0",
         "Steven Spielberg",
         "Liam Neeson",
         "Ralph Fiennes",
         "Ben Kingsley",
         "96,898,818"
        ],
        [
         "8",
         "8",
         "Inception",
         "2010",
         "UA",
         "148 min",
         "Action, Adventure, Sci-Fi",
         "8.8",
         "74.0",
         "Christopher Nolan",
         "Leonardo DiCaprio",
         "Joseph Gordon-Levitt",
         "Elliot Page",
         "292,576,195"
        ],
        [
         "9",
         "9",
         "Fight Club",
         "1999",
         "A",
         "139 min",
         "Drama",
         "8.8",
         "66.0",
         "David Fincher",
         "Brad Pitt",
         "Edward Norton",
         "Meat Loaf",
         "37,030,102"
        ],
        [
         "10",
         "10",
         "The Lord of the Rings: The Fellowship of the Ring",
         "2001",
         "U",
         "178 min",
         "Action, Adventure, Drama",
         "8.8",
         "92.0",
         "Peter Jackson",
         "Elijah Wood",
         "Ian McKellen",
         "Orlando Bloom",
         "315,544,750"
        ],
        [
         "11",
         "11",
         "Forrest Gump",
         "1994",
         "UA",
         "142 min",
         "Drama, Romance",
         "8.8",
         "82.0",
         "Robert Zemeckis",
         "Tom Hanks",
         "Robin Wright",
         "Gary Sinise",
         "330,252,182"
        ],
        [
         "12",
         "12",
         "Il buono, il brutto, il cattivo",
         "1966",
         "A",
         "161 min",
         "Western",
         "8.8",
         "90.0",
         "Sergio Leone",
         "Clint Eastwood",
         "Eli Wallach",
         "Lee Van Cleef",
         "6,100,000"
        ],
        [
         "13",
         "13",
         "The Lord of the Rings: The Two Towers",
         "2002",
         "UA",
         "179 min",
         "Action, Adventure, Drama",
         "8.7",
         "87.0",
         "Peter Jackson",
         "Elijah Wood",
         "Ian McKellen",
         "Viggo Mortensen",
         "342,551,365"
        ],
        [
         "14",
         "14",
         "The Matrix",
         "1999",
         "A",
         "136 min",
         "Action, Sci-Fi",
         "8.7",
         "73.0",
         "Lana Wachowski",
         "Lilly Wachowski",
         "Keanu Reeves",
         "Laurence Fishburne",
         "171,479,930"
        ],
        [
         "15",
         "15",
         "Goodfellas",
         "1990",
         "A",
         "146 min",
         "Biography, Crime, Drama",
         "8.7",
         "90.0",
         "Martin Scorsese",
         "Robert De Niro",
         "Ray Liotta",
         "Joe Pesci",
         "46,836,394"
        ],
        [
         "16",
         "16",
         "Star Wars: Episode V - The Empire Strikes Back",
         "1980",
         "UA",
         "124 min",
         "Action, Adventure, Fantasy",
         "8.7",
         "82.0",
         "Irvin Kershner",
         "Mark Hamill",
         "Harrison Ford",
         "Carrie Fisher",
         "290,475,067"
        ],
        [
         "17",
         "17",
         "One Flew Over the Cuckoo's Nest",
         "1975",
         "A",
         "133 min",
         "Drama",
         "8.7",
         "83.0",
         "Milos Forman",
         "Jack Nicholson",
         "Louise Fletcher",
         "Michael Berryman",
         "112,000,000"
        ],
        [
         "18",
         "18",
         "Hamilton",
         "2020",
         "PG-13",
         "160 min",
         "Biography, Drama, History",
         "8.6",
         "90.0",
         "Thomas Kail",
         "Lin-Manuel Miranda",
         "Phillipa Soo",
         "Leslie Odom Jr.",
         "68,034,750"
        ],
        [
         "19",
         "19",
         "Gisaengchung",
         "2019",
         "A",
         "132 min",
         "Comedy, Drama, Thriller",
         "8.6",
         "96.0",
         "Bong Joon Ho",
         "Kang-ho Song",
         "Lee Sun-kyun",
         "Cho Yeo-jeong",
         "53,367,844"
        ],
        [
         "20",
         "20",
         "Soorarai Pottru",
         "2020",
         "U",
         "153 min",
         "Drama",
         "8.6",
         "78.0",
         "Sudha Kongara",
         "Suriya",
         "Madhavan",
         "Paresh Rawal",
         "68,034,750"
        ],
        [
         "21",
         "21",
         "Interstellar",
         "2014",
         "UA",
         "169 min",
         "Adventure, Drama, Sci-Fi",
         "8.6",
         "74.0",
         "Christopher Nolan",
         "Matthew McConaughey",
         "Anne Hathaway",
         "Jessica Chastain",
         "188,020,017"
        ],
        [
         "22",
         "22",
         "Cidade de Deus",
         "2002",
         "A",
         "130 min",
         "Crime, Drama",
         "8.6",
         "79.0",
         "Fernando Meirelles",
         "Kátia Lund",
         "Alexandre Rodrigues",
         "Leandro Firmino",
         "7,563,397"
        ],
        [
         "23",
         "23",
         "Sen to Chihiro no kamikakushi",
         "2001",
         "U",
         "125 min",
         "Animation, Adventure, Family",
         "8.6",
         "96.0",
         "Hayao Miyazaki",
         "Daveigh Chase",
         "Suzanne Pleshette",
         "Miyu Irino",
         "10,055,859"
        ],
        [
         "24",
         "24",
         "Saving Private Ryan",
         "1998",
         "R",
         "169 min",
         "Drama, War",
         "8.6",
         "91.0",
         "Steven Spielberg",
         "Tom Hanks",
         "Matt Damon",
         "Tom Sizemore",
         "216,540,909"
        ],
        [
         "25",
         "25",
         "The Green Mile",
         "1999",
         "A",
         "189 min",
         "Crime, Drama, Fantasy",
         "8.6",
         "61.0",
         "Frank Darabont",
         "Tom Hanks",
         "Michael Clarke Duncan",
         "David Morse",
         "136,801,374"
        ],
        [
         "26",
         "26",
         "La vita è bella",
         "1997",
         "U",
         "116 min",
         "Comedy, Drama, Romance",
         "8.6",
         "59.0",
         "Roberto Benigni",
         "Roberto Benigni",
         "Nicoletta Braschi",
         "Giorgio Cantarini",
         "57,598,247"
        ],
        [
         "27",
         "27",
         "Se7en",
         "1995",
         "A",
         "127 min",
         "Crime, Drama, Mystery",
         "8.6",
         "65.0",
         "David Fincher",
         "Morgan Freeman",
         "Brad Pitt",
         "Kevin Spacey",
         "100,125,643"
        ],
        [
         "28",
         "28",
         "The Silence of the Lambs",
         "1991",
         "A",
         "118 min",
         "Crime, Drama, Thriller",
         "8.6",
         "85.0",
         "Jonathan Demme",
         "Jodie Foster",
         "Anthony Hopkins",
         "Lawrence A. Bonney",
         "130,742,922"
        ],
        [
         "29",
         "29",
         "Star Wars",
         "1977",
         "UA",
         "121 min",
         "Action, Adventure, Fantasy",
         "8.6",
         "90.0",
         "George Lucas",
         "Mark Hamill",
         "Harrison Ford",
         "Carrie Fisher",
         "322,740,140"
        ],
        [
         "30",
         "30",
         "Seppuku",
         "1962",
         "Passed",
         "133 min",
         "Action, Drama, Mystery",
         "8.6",
         "85.0",
         "Masaki Kobayashi",
         "Tatsuya Nakadai",
         "Akira Ishihama",
         "Shima Iwashita",
         "68,034,750"
        ],
        [
         "31",
         "31",
         "Shichinin no samurai",
         "1954",
         "U",
         "207 min",
         "Action, Adventure, Drama",
         "8.6",
         "98.0",
         "Akira Kurosawa",
         "Toshirô Mifune",
         "Takashi Shimura",
         "Keiko Tsushima",
         "269,061"
        ],
        [
         "32",
         "32",
         "It's a Wonderful Life",
         "1946",
         "PG",
         "130 min",
         "Drama, Family, Fantasy",
         "8.6",
         "89.0",
         "Frank Capra",
         "James Stewart",
         "Donna Reed",
         "Lionel Barrymore",
         "68,034,750"
        ],
        [
         "33",
         "33",
         "Joker",
         "2019",
         "A",
         "122 min",
         "Crime, Drama, Thriller",
         "8.5",
         "59.0",
         "Todd Phillips",
         "Joaquin Phoenix",
         "Robert De Niro",
         "Zazie Beetz",
         "335,451,311"
        ],
        [
         "34",
         "34",
         "Whiplash",
         "2014",
         "A",
         "106 min",
         "Drama, Music",
         "8.5",
         "88.0",
         "Damien Chazelle",
         "Miles Teller",
         "J.K. Simmons",
         "Melissa Benoist",
         "13,092,000"
        ],
        [
         "35",
         "35",
         "The Intouchables",
         "2011",
         "UA",
         "112 min",
         "Biography, Comedy, Drama",
         "8.5",
         "57.0",
         "Olivier Nakache",
         "Éric Toledano",
         "François Cluzet",
         "Omar Sy",
         "13,182,281"
        ],
        [
         "36",
         "36",
         "The Prestige",
         "2006",
         "U",
         "130 min",
         "Drama, Mystery, Sci-Fi",
         "8.5",
         "66.0",
         "Christopher Nolan",
         "Christian Bale",
         "Hugh Jackman",
         "Scarlett Johansson",
         "53,089,891"
        ],
        [
         "37",
         "37",
         "The Departed",
         "2006",
         "A",
         "151 min",
         "Crime, Drama, Thriller",
         "8.5",
         "85.0",
         "Martin Scorsese",
         "Leonardo DiCaprio",
         "Matt Damon",
         "Jack Nicholson",
         "132,384,315"
        ],
        [
         "38",
         "38",
         "The Pianist",
         "2002",
         "R",
         "150 min",
         "Biography, Drama, Music",
         "8.5",
         "85.0",
         "Roman Polanski",
         "Adrien Brody",
         "Thomas Kretschmann",
         "Frank Finlay",
         "32,572,577"
        ],
        [
         "39",
         "39",
         "Gladiator",
         "2000",
         "UA",
         "155 min",
         "Action, Adventure, Drama",
         "8.5",
         "67.0",
         "Ridley Scott",
         "Russell Crowe",
         "Joaquin Phoenix",
         "Connie Nielsen",
         "187,705,427"
        ],
        [
         "40",
         "40",
         "American History X",
         "1998",
         "R",
         "119 min",
         "Drama",
         "8.5",
         "62.0",
         "Tony Kaye",
         "Edward Norton",
         "Edward Furlong",
         "Beverly D'Angelo",
         "6,719,864"
        ],
        [
         "41",
         "41",
         "The Usual Suspects",
         "1995",
         "A",
         "106 min",
         "Crime, Mystery, Thriller",
         "8.5",
         "77.0",
         "Bryan Singer",
         "Kevin Spacey",
         "Gabriel Byrne",
         "Chazz Palminteri",
         "23,341,568"
        ],
        [
         "42",
         "42",
         "Léon",
         "1994",
         "A",
         "110 min",
         "Action, Crime, Drama",
         "8.5",
         "64.0",
         "Luc Besson",
         "Jean Reno",
         "Gary Oldman",
         "Natalie Portman",
         "19,501,238"
        ],
        [
         "43",
         "43",
         "The Lion King",
         "1994",
         "U",
         "88 min",
         "Animation, Adventure, Drama",
         "8.5",
         "88.0",
         "Roger Allers",
         "Rob Minkoff",
         "Matthew Broderick",
         "Jeremy Irons",
         "422,783,777"
        ],
        [
         "44",
         "44",
         "Terminator 2: Judgment Day",
         "1991",
         "U",
         "137 min",
         "Action, Sci-Fi",
         "8.5",
         "75.0",
         "James Cameron",
         "Arnold Schwarzenegger",
         "Linda Hamilton",
         "Edward Furlong",
         "204,843,350"
        ],
        [
         "45",
         "45",
         "Nuovo Cinema Paradiso",
         "1988",
         "U",
         "155 min",
         "Drama, Romance",
         "8.5",
         "80.0",
         "Giuseppe Tornatore",
         "Philippe Noiret",
         "Enzo Cannavale",
         "Antonella Attili",
         "11,990,401"
        ],
        [
         "46",
         "46",
         "Hotaru no haka",
         "1988",
         "U",
         "89 min",
         "Animation, Drama, War",
         "8.5",
         "94.0",
         "Isao Takahata",
         "Tsutomu Tatsumi",
         "Ayano Shiraishi",
         "Akemi Yamaguchi",
         "68,034,750"
        ],
        [
         "47",
         "47",
         "Back to the Future",
         "1985",
         "U",
         "116 min",
         "Adventure, Comedy, Sci-Fi",
         "8.5",
         "87.0",
         "Robert Zemeckis",
         "Michael J. Fox",
         "Christopher Lloyd",
         "Lea Thompson",
         "210,609,762"
        ],
        [
         "48",
         "48",
         "Once Upon a Time in the West",
         "1968",
         "U",
         "165 min",
         "Western",
         "8.5",
         "80.0",
         "Sergio Leone",
         "Henry Fonda",
         "Charles Bronson",
         "Claudia Cardinale",
         "5,321,508"
        ],
        [
         "49",
         "49",
         "Psycho",
         "1960",
         "A",
         "109 min",
         "Horror, Mystery, Thriller",
         "8.5",
         "97.0",
         "Alfred Hitchcock",
         "Anthony Perkins",
         "Janet Leigh",
         "Vera Miles",
         "32,000,000"
        ]
       ],
       "shape": {
        "columns": 13,
        "rows": 1000
       }
      },
      "text/html": [
       "<div>\n",
       "<style scoped>\n",
       "    .dataframe tbody tr th:only-of-type {\n",
       "        vertical-align: middle;\n",
       "    }\n",
       "\n",
       "    .dataframe tbody tr th {\n",
       "        vertical-align: top;\n",
       "    }\n",
       "\n",
       "    .dataframe thead th {\n",
       "        text-align: right;\n",
       "    }\n",
       "</style>\n",
       "<table border=\"1\" class=\"dataframe\">\n",
       "  <thead>\n",
       "    <tr style=\"text-align: right;\">\n",
       "      <th></th>\n",
       "      <th>Unnamed: 0</th>\n",
       "      <th>Series_Title</th>\n",
       "      <th>Released_Year</th>\n",
       "      <th>Certificate</th>\n",
       "      <th>Runtime</th>\n",
       "      <th>Genre</th>\n",
       "      <th>IMDB_Rating</th>\n",
       "      <th>Meta_score</th>\n",
       "      <th>Director</th>\n",
       "      <th>Star1</th>\n",
       "      <th>Star2</th>\n",
       "      <th>Star3</th>\n",
       "      <th>Gross</th>\n",
       "    </tr>\n",
       "  </thead>\n",
       "  <tbody>\n",
       "    <tr>\n",
       "      <th>0</th>\n",
       "      <td>0</td>\n",
       "      <td>The Shawshank Redemption</td>\n",
       "      <td>1994</td>\n",
       "      <td>A</td>\n",
       "      <td>142 min</td>\n",
       "      <td>Drama</td>\n",
       "      <td>9.3</td>\n",
       "      <td>80.0</td>\n",
       "      <td>Frank Darabont</td>\n",
       "      <td>Tim Robbins</td>\n",
       "      <td>Morgan Freeman</td>\n",
       "      <td>Bob Gunton</td>\n",
       "      <td>28,341,469</td>\n",
       "    </tr>\n",
       "    <tr>\n",
       "      <th>1</th>\n",
       "      <td>1</td>\n",
       "      <td>The Godfather</td>\n",
       "      <td>1972</td>\n",
       "      <td>A</td>\n",
       "      <td>175 min</td>\n",
       "      <td>Crime, Drama</td>\n",
       "      <td>9.2</td>\n",
       "      <td>100.0</td>\n",
       "      <td>Francis Ford Coppola</td>\n",
       "      <td>Marlon Brando</td>\n",
       "      <td>Al Pacino</td>\n",
       "      <td>James Caan</td>\n",
       "      <td>134,966,411</td>\n",
       "    </tr>\n",
       "    <tr>\n",
       "      <th>2</th>\n",
       "      <td>2</td>\n",
       "      <td>The Dark Knight</td>\n",
       "      <td>2008</td>\n",
       "      <td>UA</td>\n",
       "      <td>152 min</td>\n",
       "      <td>Action, Crime, Drama</td>\n",
       "      <td>9.0</td>\n",
       "      <td>84.0</td>\n",
       "      <td>Christopher Nolan</td>\n",
       "      <td>Christian Bale</td>\n",
       "      <td>Heath Ledger</td>\n",
       "      <td>Aaron Eckhart</td>\n",
       "      <td>534,858,444</td>\n",
       "    </tr>\n",
       "    <tr>\n",
       "      <th>3</th>\n",
       "      <td>3</td>\n",
       "      <td>The Godfather: Part II</td>\n",
       "      <td>1974</td>\n",
       "      <td>A</td>\n",
       "      <td>202 min</td>\n",
       "      <td>Crime, Drama</td>\n",
       "      <td>9.0</td>\n",
       "      <td>90.0</td>\n",
       "      <td>Francis Ford Coppola</td>\n",
       "      <td>Al Pacino</td>\n",
       "      <td>Robert De Niro</td>\n",
       "      <td>Robert Duvall</td>\n",
       "      <td>57,300,000</td>\n",
       "    </tr>\n",
       "    <tr>\n",
       "      <th>4</th>\n",
       "      <td>4</td>\n",
       "      <td>12 Angry Men</td>\n",
       "      <td>1957</td>\n",
       "      <td>U</td>\n",
       "      <td>96 min</td>\n",
       "      <td>Crime, Drama</td>\n",
       "      <td>9.0</td>\n",
       "      <td>96.0</td>\n",
       "      <td>Sidney Lumet</td>\n",
       "      <td>Henry Fonda</td>\n",
       "      <td>Lee J. Cobb</td>\n",
       "      <td>Martin Balsam</td>\n",
       "      <td>4,360,000</td>\n",
       "    </tr>\n",
       "    <tr>\n",
       "      <th>...</th>\n",
       "      <td>...</td>\n",
       "      <td>...</td>\n",
       "      <td>...</td>\n",
       "      <td>...</td>\n",
       "      <td>...</td>\n",
       "      <td>...</td>\n",
       "      <td>...</td>\n",
       "      <td>...</td>\n",
       "      <td>...</td>\n",
       "      <td>...</td>\n",
       "      <td>...</td>\n",
       "      <td>...</td>\n",
       "      <td>...</td>\n",
       "    </tr>\n",
       "    <tr>\n",
       "      <th>995</th>\n",
       "      <td>995</td>\n",
       "      <td>Breakfast at Tiffany's</td>\n",
       "      <td>1961</td>\n",
       "      <td>A</td>\n",
       "      <td>115 min</td>\n",
       "      <td>Comedy, Drama, Romance</td>\n",
       "      <td>7.6</td>\n",
       "      <td>76.0</td>\n",
       "      <td>Blake Edwards</td>\n",
       "      <td>Audrey Hepburn</td>\n",
       "      <td>George Peppard</td>\n",
       "      <td>Patricia Neal</td>\n",
       "      <td>68,034,750</td>\n",
       "    </tr>\n",
       "    <tr>\n",
       "      <th>996</th>\n",
       "      <td>996</td>\n",
       "      <td>Giant</td>\n",
       "      <td>1956</td>\n",
       "      <td>G</td>\n",
       "      <td>201 min</td>\n",
       "      <td>Drama, Western</td>\n",
       "      <td>7.6</td>\n",
       "      <td>84.0</td>\n",
       "      <td>George Stevens</td>\n",
       "      <td>Elizabeth Taylor</td>\n",
       "      <td>Rock Hudson</td>\n",
       "      <td>James Dean</td>\n",
       "      <td>68,034,750</td>\n",
       "    </tr>\n",
       "    <tr>\n",
       "      <th>997</th>\n",
       "      <td>997</td>\n",
       "      <td>From Here to Eternity</td>\n",
       "      <td>1953</td>\n",
       "      <td>Passed</td>\n",
       "      <td>118 min</td>\n",
       "      <td>Drama, Romance, War</td>\n",
       "      <td>7.6</td>\n",
       "      <td>85.0</td>\n",
       "      <td>Fred Zinnemann</td>\n",
       "      <td>Burt Lancaster</td>\n",
       "      <td>Montgomery Clift</td>\n",
       "      <td>Deborah Kerr</td>\n",
       "      <td>30,500,000</td>\n",
       "    </tr>\n",
       "    <tr>\n",
       "      <th>998</th>\n",
       "      <td>998</td>\n",
       "      <td>Lifeboat</td>\n",
       "      <td>1944</td>\n",
       "      <td>Passed</td>\n",
       "      <td>97 min</td>\n",
       "      <td>Drama, War</td>\n",
       "      <td>7.6</td>\n",
       "      <td>78.0</td>\n",
       "      <td>Alfred Hitchcock</td>\n",
       "      <td>Tallulah Bankhead</td>\n",
       "      <td>John Hodiak</td>\n",
       "      <td>Walter Slezak</td>\n",
       "      <td>68,034,750</td>\n",
       "    </tr>\n",
       "    <tr>\n",
       "      <th>999</th>\n",
       "      <td>999</td>\n",
       "      <td>The 39 Steps</td>\n",
       "      <td>1935</td>\n",
       "      <td>Passed</td>\n",
       "      <td>86 min</td>\n",
       "      <td>Crime, Mystery, Thriller</td>\n",
       "      <td>7.6</td>\n",
       "      <td>93.0</td>\n",
       "      <td>Alfred Hitchcock</td>\n",
       "      <td>Robert Donat</td>\n",
       "      <td>Madeleine Carroll</td>\n",
       "      <td>Lucie Mannheim</td>\n",
       "      <td>68,034,750</td>\n",
       "    </tr>\n",
       "  </tbody>\n",
       "</table>\n",
       "<p>1000 rows × 13 columns</p>\n",
       "</div>"
      ],
      "text/plain": [
       "     Unnamed: 0              Series_Title Released_Year Certificate  Runtime  \\\n",
       "0             0  The Shawshank Redemption          1994           A  142 min   \n",
       "1             1             The Godfather          1972           A  175 min   \n",
       "2             2           The Dark Knight          2008          UA  152 min   \n",
       "3             3    The Godfather: Part II          1974           A  202 min   \n",
       "4             4              12 Angry Men          1957           U   96 min   \n",
       "..          ...                       ...           ...         ...      ...   \n",
       "995         995    Breakfast at Tiffany's          1961           A  115 min   \n",
       "996         996                     Giant          1956           G  201 min   \n",
       "997         997     From Here to Eternity          1953      Passed  118 min   \n",
       "998         998                  Lifeboat          1944      Passed   97 min   \n",
       "999         999              The 39 Steps          1935      Passed   86 min   \n",
       "\n",
       "                        Genre  IMDB_Rating  Meta_score              Director  \\\n",
       "0                       Drama          9.3        80.0        Frank Darabont   \n",
       "1                Crime, Drama          9.2       100.0  Francis Ford Coppola   \n",
       "2        Action, Crime, Drama          9.0        84.0     Christopher Nolan   \n",
       "3                Crime, Drama          9.0        90.0  Francis Ford Coppola   \n",
       "4                Crime, Drama          9.0        96.0          Sidney Lumet   \n",
       "..                        ...          ...         ...                   ...   \n",
       "995    Comedy, Drama, Romance          7.6        76.0         Blake Edwards   \n",
       "996            Drama, Western          7.6        84.0        George Stevens   \n",
       "997       Drama, Romance, War          7.6        85.0        Fred Zinnemann   \n",
       "998                Drama, War          7.6        78.0      Alfred Hitchcock   \n",
       "999  Crime, Mystery, Thriller          7.6        93.0      Alfred Hitchcock   \n",
       "\n",
       "                 Star1              Star2           Star3        Gross  \n",
       "0          Tim Robbins     Morgan Freeman      Bob Gunton   28,341,469  \n",
       "1        Marlon Brando          Al Pacino      James Caan  134,966,411  \n",
       "2       Christian Bale       Heath Ledger   Aaron Eckhart  534,858,444  \n",
       "3            Al Pacino     Robert De Niro   Robert Duvall   57,300,000  \n",
       "4          Henry Fonda        Lee J. Cobb   Martin Balsam    4,360,000  \n",
       "..                 ...                ...             ...          ...  \n",
       "995     Audrey Hepburn     George Peppard   Patricia Neal   68,034,750  \n",
       "996   Elizabeth Taylor        Rock Hudson      James Dean   68,034,750  \n",
       "997     Burt Lancaster   Montgomery Clift    Deborah Kerr   30,500,000  \n",
       "998  Tallulah Bankhead        John Hodiak   Walter Slezak   68,034,750  \n",
       "999       Robert Donat  Madeleine Carroll  Lucie Mannheim   68,034,750  \n",
       "\n",
       "[1000 rows x 13 columns]"
      ]
     },
     "execution_count": 6,
     "metadata": {},
     "output_type": "execute_result"
    }
   ],
   "source": [
    "new_data=pd.read_sql(\"\"\"select * from movies\"\"\",con)\n",
    "new_data"
   ]
  },
  {
   "cell_type": "code",
   "execution_count": 7,
   "metadata": {},
   "outputs": [
    {
     "data": {
      "application/vnd.microsoft.datawrangler.viewer.v0+json": {
       "columns": [
        {
         "name": "index",
         "rawType": "int64",
         "type": "integer"
        },
        {
         "name": "Series_Title",
         "rawType": "object",
         "type": "string"
        }
       ],
       "conversionMethod": "pd.DataFrame",
       "ref": "dbe4cf17-c83c-47ad-ad9f-7d6620474f85",
       "rows": [
        [
         "0",
         "The Shawshank Redemption"
        ],
        [
         "1",
         "The Godfather"
        ],
        [
         "2",
         "The Dark Knight"
        ],
        [
         "3",
         "The Godfather: Part II"
        ],
        [
         "4",
         "12 Angry Men"
        ],
        [
         "5",
         "The Lord of the Rings: The Return of the King"
        ],
        [
         "6",
         "Pulp Fiction"
        ],
        [
         "7",
         "Schindler's List"
        ],
        [
         "8",
         "Inception"
        ],
        [
         "9",
         "Fight Club"
        ],
        [
         "10",
         "The Lord of the Rings: The Fellowship of the Ring"
        ],
        [
         "11",
         "Forrest Gump"
        ],
        [
         "12",
         "Il buono, il brutto, il cattivo"
        ],
        [
         "13",
         "The Lord of the Rings: The Two Towers"
        ],
        [
         "14",
         "The Matrix"
        ],
        [
         "15",
         "Goodfellas"
        ],
        [
         "16",
         "Star Wars: Episode V - The Empire Strikes Back"
        ],
        [
         "17",
         "One Flew Over the Cuckoo's Nest"
        ],
        [
         "18",
         "Hamilton"
        ],
        [
         "19",
         "Gisaengchung"
        ],
        [
         "20",
         "Soorarai Pottru"
        ],
        [
         "21",
         "Interstellar"
        ],
        [
         "22",
         "Cidade de Deus"
        ],
        [
         "23",
         "Sen to Chihiro no kamikakushi"
        ],
        [
         "24",
         "Saving Private Ryan"
        ],
        [
         "25",
         "The Green Mile"
        ],
        [
         "26",
         "La vita è bella"
        ],
        [
         "27",
         "Se7en"
        ],
        [
         "28",
         "The Silence of the Lambs"
        ],
        [
         "29",
         "Star Wars"
        ],
        [
         "30",
         "Seppuku"
        ],
        [
         "31",
         "Shichinin no samurai"
        ],
        [
         "32",
         "It's a Wonderful Life"
        ],
        [
         "33",
         "Joker"
        ],
        [
         "34",
         "Whiplash"
        ],
        [
         "35",
         "The Intouchables"
        ],
        [
         "36",
         "The Prestige"
        ],
        [
         "37",
         "The Departed"
        ],
        [
         "38",
         "The Pianist"
        ],
        [
         "39",
         "Gladiator"
        ],
        [
         "40",
         "American History X"
        ],
        [
         "41",
         "The Usual Suspects"
        ],
        [
         "42",
         "Léon"
        ],
        [
         "43",
         "The Lion King"
        ],
        [
         "44",
         "Terminator 2: Judgment Day"
        ],
        [
         "45",
         "Nuovo Cinema Paradiso"
        ],
        [
         "46",
         "Hotaru no haka"
        ],
        [
         "47",
         "Back to the Future"
        ],
        [
         "48",
         "Once Upon a Time in the West"
        ],
        [
         "49",
         "Psycho"
        ]
       ],
       "shape": {
        "columns": 1,
        "rows": 53
       }
      },
      "text/html": [
       "<div>\n",
       "<style scoped>\n",
       "    .dataframe tbody tr th:only-of-type {\n",
       "        vertical-align: middle;\n",
       "    }\n",
       "\n",
       "    .dataframe tbody tr th {\n",
       "        vertical-align: top;\n",
       "    }\n",
       "\n",
       "    .dataframe thead th {\n",
       "        text-align: right;\n",
       "    }\n",
       "</style>\n",
       "<table border=\"1\" class=\"dataframe\">\n",
       "  <thead>\n",
       "    <tr style=\"text-align: right;\">\n",
       "      <th></th>\n",
       "      <th>Series_Title</th>\n",
       "    </tr>\n",
       "  </thead>\n",
       "  <tbody>\n",
       "    <tr>\n",
       "      <th>0</th>\n",
       "      <td>The Shawshank Redemption</td>\n",
       "    </tr>\n",
       "    <tr>\n",
       "      <th>1</th>\n",
       "      <td>The Godfather</td>\n",
       "    </tr>\n",
       "    <tr>\n",
       "      <th>2</th>\n",
       "      <td>The Dark Knight</td>\n",
       "    </tr>\n",
       "    <tr>\n",
       "      <th>3</th>\n",
       "      <td>The Godfather: Part II</td>\n",
       "    </tr>\n",
       "    <tr>\n",
       "      <th>4</th>\n",
       "      <td>12 Angry Men</td>\n",
       "    </tr>\n",
       "    <tr>\n",
       "      <th>5</th>\n",
       "      <td>The Lord of the Rings: The Return of the King</td>\n",
       "    </tr>\n",
       "    <tr>\n",
       "      <th>6</th>\n",
       "      <td>Pulp Fiction</td>\n",
       "    </tr>\n",
       "    <tr>\n",
       "      <th>7</th>\n",
       "      <td>Schindler's List</td>\n",
       "    </tr>\n",
       "    <tr>\n",
       "      <th>8</th>\n",
       "      <td>Inception</td>\n",
       "    </tr>\n",
       "    <tr>\n",
       "      <th>9</th>\n",
       "      <td>Fight Club</td>\n",
       "    </tr>\n",
       "    <tr>\n",
       "      <th>10</th>\n",
       "      <td>The Lord of the Rings: The Fellowship of the Ring</td>\n",
       "    </tr>\n",
       "    <tr>\n",
       "      <th>11</th>\n",
       "      <td>Forrest Gump</td>\n",
       "    </tr>\n",
       "    <tr>\n",
       "      <th>12</th>\n",
       "      <td>Il buono, il brutto, il cattivo</td>\n",
       "    </tr>\n",
       "    <tr>\n",
       "      <th>13</th>\n",
       "      <td>The Lord of the Rings: The Two Towers</td>\n",
       "    </tr>\n",
       "    <tr>\n",
       "      <th>14</th>\n",
       "      <td>The Matrix</td>\n",
       "    </tr>\n",
       "    <tr>\n",
       "      <th>15</th>\n",
       "      <td>Goodfellas</td>\n",
       "    </tr>\n",
       "    <tr>\n",
       "      <th>16</th>\n",
       "      <td>Star Wars: Episode V - The Empire Strikes Back</td>\n",
       "    </tr>\n",
       "    <tr>\n",
       "      <th>17</th>\n",
       "      <td>One Flew Over the Cuckoo's Nest</td>\n",
       "    </tr>\n",
       "    <tr>\n",
       "      <th>18</th>\n",
       "      <td>Hamilton</td>\n",
       "    </tr>\n",
       "    <tr>\n",
       "      <th>19</th>\n",
       "      <td>Gisaengchung</td>\n",
       "    </tr>\n",
       "    <tr>\n",
       "      <th>20</th>\n",
       "      <td>Soorarai Pottru</td>\n",
       "    </tr>\n",
       "    <tr>\n",
       "      <th>21</th>\n",
       "      <td>Interstellar</td>\n",
       "    </tr>\n",
       "    <tr>\n",
       "      <th>22</th>\n",
       "      <td>Cidade de Deus</td>\n",
       "    </tr>\n",
       "    <tr>\n",
       "      <th>23</th>\n",
       "      <td>Sen to Chihiro no kamikakushi</td>\n",
       "    </tr>\n",
       "    <tr>\n",
       "      <th>24</th>\n",
       "      <td>Saving Private Ryan</td>\n",
       "    </tr>\n",
       "    <tr>\n",
       "      <th>25</th>\n",
       "      <td>The Green Mile</td>\n",
       "    </tr>\n",
       "    <tr>\n",
       "      <th>26</th>\n",
       "      <td>La vita è bella</td>\n",
       "    </tr>\n",
       "    <tr>\n",
       "      <th>27</th>\n",
       "      <td>Se7en</td>\n",
       "    </tr>\n",
       "    <tr>\n",
       "      <th>28</th>\n",
       "      <td>The Silence of the Lambs</td>\n",
       "    </tr>\n",
       "    <tr>\n",
       "      <th>29</th>\n",
       "      <td>Star Wars</td>\n",
       "    </tr>\n",
       "    <tr>\n",
       "      <th>30</th>\n",
       "      <td>Seppuku</td>\n",
       "    </tr>\n",
       "    <tr>\n",
       "      <th>31</th>\n",
       "      <td>Shichinin no samurai</td>\n",
       "    </tr>\n",
       "    <tr>\n",
       "      <th>32</th>\n",
       "      <td>It's a Wonderful Life</td>\n",
       "    </tr>\n",
       "    <tr>\n",
       "      <th>33</th>\n",
       "      <td>Joker</td>\n",
       "    </tr>\n",
       "    <tr>\n",
       "      <th>34</th>\n",
       "      <td>Whiplash</td>\n",
       "    </tr>\n",
       "    <tr>\n",
       "      <th>35</th>\n",
       "      <td>The Intouchables</td>\n",
       "    </tr>\n",
       "    <tr>\n",
       "      <th>36</th>\n",
       "      <td>The Prestige</td>\n",
       "    </tr>\n",
       "    <tr>\n",
       "      <th>37</th>\n",
       "      <td>The Departed</td>\n",
       "    </tr>\n",
       "    <tr>\n",
       "      <th>38</th>\n",
       "      <td>The Pianist</td>\n",
       "    </tr>\n",
       "    <tr>\n",
       "      <th>39</th>\n",
       "      <td>Gladiator</td>\n",
       "    </tr>\n",
       "    <tr>\n",
       "      <th>40</th>\n",
       "      <td>American History X</td>\n",
       "    </tr>\n",
       "    <tr>\n",
       "      <th>41</th>\n",
       "      <td>The Usual Suspects</td>\n",
       "    </tr>\n",
       "    <tr>\n",
       "      <th>42</th>\n",
       "      <td>Léon</td>\n",
       "    </tr>\n",
       "    <tr>\n",
       "      <th>43</th>\n",
       "      <td>The Lion King</td>\n",
       "    </tr>\n",
       "    <tr>\n",
       "      <th>44</th>\n",
       "      <td>Terminator 2: Judgment Day</td>\n",
       "    </tr>\n",
       "    <tr>\n",
       "      <th>45</th>\n",
       "      <td>Nuovo Cinema Paradiso</td>\n",
       "    </tr>\n",
       "    <tr>\n",
       "      <th>46</th>\n",
       "      <td>Hotaru no haka</td>\n",
       "    </tr>\n",
       "    <tr>\n",
       "      <th>47</th>\n",
       "      <td>Back to the Future</td>\n",
       "    </tr>\n",
       "    <tr>\n",
       "      <th>48</th>\n",
       "      <td>Once Upon a Time in the West</td>\n",
       "    </tr>\n",
       "    <tr>\n",
       "      <th>49</th>\n",
       "      <td>Psycho</td>\n",
       "    </tr>\n",
       "    <tr>\n",
       "      <th>50</th>\n",
       "      <td>Casablanca</td>\n",
       "    </tr>\n",
       "    <tr>\n",
       "      <th>51</th>\n",
       "      <td>Modern Times</td>\n",
       "    </tr>\n",
       "    <tr>\n",
       "      <th>52</th>\n",
       "      <td>City Lights</td>\n",
       "    </tr>\n",
       "  </tbody>\n",
       "</table>\n",
       "</div>"
      ],
      "text/plain": [
       "                                         Series_Title\n",
       "0                            The Shawshank Redemption\n",
       "1                                       The Godfather\n",
       "2                                     The Dark Knight\n",
       "3                              The Godfather: Part II\n",
       "4                                        12 Angry Men\n",
       "5       The Lord of the Rings: The Return of the King\n",
       "6                                        Pulp Fiction\n",
       "7                                    Schindler's List\n",
       "8                                           Inception\n",
       "9                                          Fight Club\n",
       "10  The Lord of the Rings: The Fellowship of the Ring\n",
       "11                                       Forrest Gump\n",
       "12                    Il buono, il brutto, il cattivo\n",
       "13              The Lord of the Rings: The Two Towers\n",
       "14                                         The Matrix\n",
       "15                                         Goodfellas\n",
       "16     Star Wars: Episode V - The Empire Strikes Back\n",
       "17                    One Flew Over the Cuckoo's Nest\n",
       "18                                           Hamilton\n",
       "19                                       Gisaengchung\n",
       "20                                    Soorarai Pottru\n",
       "21                                       Interstellar\n",
       "22                                     Cidade de Deus\n",
       "23                      Sen to Chihiro no kamikakushi\n",
       "24                                Saving Private Ryan\n",
       "25                                     The Green Mile\n",
       "26                                    La vita è bella\n",
       "27                                              Se7en\n",
       "28                           The Silence of the Lambs\n",
       "29                                          Star Wars\n",
       "30                                            Seppuku\n",
       "31                               Shichinin no samurai\n",
       "32                              It's a Wonderful Life\n",
       "33                                              Joker\n",
       "34                                           Whiplash\n",
       "35                                   The Intouchables\n",
       "36                                       The Prestige\n",
       "37                                       The Departed\n",
       "38                                        The Pianist\n",
       "39                                          Gladiator\n",
       "40                                 American History X\n",
       "41                                 The Usual Suspects\n",
       "42                                               Léon\n",
       "43                                      The Lion King\n",
       "44                         Terminator 2: Judgment Day\n",
       "45                              Nuovo Cinema Paradiso\n",
       "46                                     Hotaru no haka\n",
       "47                                 Back to the Future\n",
       "48                       Once Upon a Time in the West\n",
       "49                                             Psycho\n",
       "50                                         Casablanca\n",
       "51                                       Modern Times\n",
       "52                                        City Lights"
      ]
     },
     "execution_count": 7,
     "metadata": {},
     "output_type": "execute_result"
    }
   ],
   "source": [
    "#movies whose IMDB_Ratings are >= 8.5\n",
    "new_data=pd.read_sql(\"\"\"select Series_Title from movies where IMDB_Rating>=8.5\"\"\",con)\n",
    "new_data"
   ]
  },
  {
   "cell_type": "code",
   "execution_count": 8,
   "metadata": {},
   "outputs": [
    {
     "data": {
      "application/vnd.microsoft.datawrangler.viewer.v0+json": {
       "columns": [
        {
         "name": "index",
         "rawType": "int64",
         "type": "integer"
        },
        {
         "name": "Series_Title",
         "rawType": "object",
         "type": "string"
        },
        {
         "name": "Released_Year",
         "rawType": "object",
         "type": "string"
        }
       ],
       "conversionMethod": "pd.DataFrame",
       "ref": "7d83d36e-9274-4301-9ff3-522420e36272",
       "rows": [
        [
         "0",
         "The Shawshank Redemption",
         "1994"
        ],
        [
         "1",
         "Fight Club",
         "1999"
        ],
        [
         "2",
         "One Flew Over the Cuckoo's Nest",
         "1975"
        ],
        [
         "3",
         "Soorarai Pottru",
         "2020"
        ],
        [
         "4",
         "American History X",
         "1998"
        ],
        [
         "5",
         "Capharnaüm",
         "2018"
        ],
        [
         "6",
         "Jagten",
         "2012"
        ],
        [
         "7",
         "Jodaeiye Nader az Simin",
         "2011"
        ],
        [
         "8",
         "Miracle in cell NO.7",
         "2019"
        ],
        [
         "9",
         "Requiem for a Dream",
         "2000"
        ],
        [
         "10",
         "American Beauty",
         "1999"
        ],
        [
         "11",
         "Ikiru",
         "1952"
        ],
        [
         "12",
         "Ladri di biciclette",
         "1948"
        ],
        [
         "13",
         "Udaan",
         "2010"
        ],
        [
         "14",
         "There Will Be Blood",
         "2007"
        ],
        [
         "15",
         "Black",
         "2005"
        ],
        [
         "16",
         "Swades: We, the People",
         "2004"
        ],
        [
         "17",
         "Tôkyô monogatari",
         "1953"
        ],
        [
         "18",
         "All About Eve",
         "1950"
        ],
        [
         "19",
         "Mommy",
         "2014"
        ],
        [
         "20",
         "Kis Uykusu",
         "2014"
        ],
        [
         "21",
         "Gran Torino",
         "2008"
        ],
        [
         "22",
         "Trainspotting",
         "1996"
        ],
        [
         "23",
         "Paris, Texas",
         "1984"
        ],
        [
         "24",
         "Fanny och Alexander",
         "1982"
        ],
        [
         "25",
         "Network",
         "1976"
        ],
        [
         "26",
         "Viskningar och rop",
         "1972"
        ],
        [
         "27",
         "Jungfrukällan",
         "1960"
        ],
        [
         "28",
         "Le notti di Cabiria",
         "1957"
        ],
        [
         "29",
         "Short Term 12",
         "2013"
        ],
        [
         "30",
         "The Help",
         "2011"
        ],
        [
         "31",
         "My Name Is Khan",
         "2010"
        ],
        [
         "32",
         "Vozvrashchenie",
         "2003"
        ],
        [
         "33",
         "Magnolia",
         "1999"
        ],
        [
         "34",
         "Festen",
         "1998"
        ],
        [
         "35",
         "Central do Brasil",
         "1998"
        ],
        [
         "36",
         "Sling Blade",
         "1996"
        ],
        [
         "37",
         "Scent of a Woman",
         "1992"
        ],
        [
         "38",
         "Rain Man",
         "1988"
        ],
        [
         "39",
         "Il conformista",
         "1970"
        ],
        [
         "40",
         "Who's Afraid of Virginia Woolf?",
         "1966"
        ],
        [
         "41",
         "8½",
         "1963"
        ],
        [
         "42",
         "Vivre sa vie: Film en douze tableaux",
         "1962"
        ],
        [
         "43",
         "Cat on a Hot Tin Roof",
         "1958"
        ],
        [
         "44",
         "La Strada",
         "1954"
        ],
        [
         "45",
         "A Streetcar Named Desire",
         "1951"
        ],
        [
         "46",
         "I, Daniel Blake",
         "2016"
        ],
        [
         "47",
         "Boyhood",
         "2014"
        ],
        [
         "48",
         "4 luni, 3 saptamâni si 2 zile",
         "2007"
        ],
        [
         "49",
         "Boogie Nights",
         "1997"
        ]
       ],
       "shape": {
        "columns": 2,
        "rows": 85
       }
      },
      "text/html": [
       "<div>\n",
       "<style scoped>\n",
       "    .dataframe tbody tr th:only-of-type {\n",
       "        vertical-align: middle;\n",
       "    }\n",
       "\n",
       "    .dataframe tbody tr th {\n",
       "        vertical-align: top;\n",
       "    }\n",
       "\n",
       "    .dataframe thead th {\n",
       "        text-align: right;\n",
       "    }\n",
       "</style>\n",
       "<table border=\"1\" class=\"dataframe\">\n",
       "  <thead>\n",
       "    <tr style=\"text-align: right;\">\n",
       "      <th></th>\n",
       "      <th>Series_Title</th>\n",
       "      <th>Released_Year</th>\n",
       "    </tr>\n",
       "  </thead>\n",
       "  <tbody>\n",
       "    <tr>\n",
       "      <th>0</th>\n",
       "      <td>The Shawshank Redemption</td>\n",
       "      <td>1994</td>\n",
       "    </tr>\n",
       "    <tr>\n",
       "      <th>1</th>\n",
       "      <td>Fight Club</td>\n",
       "      <td>1999</td>\n",
       "    </tr>\n",
       "    <tr>\n",
       "      <th>2</th>\n",
       "      <td>One Flew Over the Cuckoo's Nest</td>\n",
       "      <td>1975</td>\n",
       "    </tr>\n",
       "    <tr>\n",
       "      <th>3</th>\n",
       "      <td>Soorarai Pottru</td>\n",
       "      <td>2020</td>\n",
       "    </tr>\n",
       "    <tr>\n",
       "      <th>4</th>\n",
       "      <td>American History X</td>\n",
       "      <td>1998</td>\n",
       "    </tr>\n",
       "    <tr>\n",
       "      <th>...</th>\n",
       "      <td>...</td>\n",
       "      <td>...</td>\n",
       "    </tr>\n",
       "    <tr>\n",
       "      <th>80</th>\n",
       "      <td>Synecdoche, New York</td>\n",
       "      <td>2008</td>\n",
       "    </tr>\n",
       "    <tr>\n",
       "      <th>81</th>\n",
       "      <td>Mysterious Skin</td>\n",
       "      <td>2004</td>\n",
       "    </tr>\n",
       "    <tr>\n",
       "      <th>82</th>\n",
       "      <td>25th Hour</td>\n",
       "      <td>2002</td>\n",
       "    </tr>\n",
       "    <tr>\n",
       "      <th>83</th>\n",
       "      <td>Y tu mamá también</td>\n",
       "      <td>2001</td>\n",
       "    </tr>\n",
       "    <tr>\n",
       "      <th>84</th>\n",
       "      <td>On Golden Pond</td>\n",
       "      <td>1981</td>\n",
       "    </tr>\n",
       "  </tbody>\n",
       "</table>\n",
       "<p>85 rows × 2 columns</p>\n",
       "</div>"
      ],
      "text/plain": [
       "                       Series_Title Released_Year\n",
       "0          The Shawshank Redemption          1994\n",
       "1                        Fight Club          1999\n",
       "2   One Flew Over the Cuckoo's Nest          1975\n",
       "3                   Soorarai Pottru          2020\n",
       "4                American History X          1998\n",
       "..                              ...           ...\n",
       "80             Synecdoche, New York          2008\n",
       "81                  Mysterious Skin          2004\n",
       "82                        25th Hour          2002\n",
       "83                Y tu mamá también          2001\n",
       "84                   On Golden Pond          1981\n",
       "\n",
       "[85 rows x 2 columns]"
      ]
     },
     "execution_count": 8,
     "metadata": {},
     "output_type": "execute_result"
    }
   ],
   "source": [
    "#movies and their release year based on genre, Drama\n",
    "new_data=pd.read_sql(\"\"\"select Series_Title, Released_Year from movies where Genre=\"Drama\" \"\"\",con)\n",
    "new_data"
   ]
  },
  {
   "cell_type": "code",
   "execution_count": 9,
   "metadata": {},
   "outputs": [
    {
     "data": {
      "application/vnd.microsoft.datawrangler.viewer.v0+json": {
       "columns": [
        {
         "name": "index",
         "rawType": "int64",
         "type": "integer"
        },
        {
         "name": "Certificate",
         "rawType": "object",
         "type": "string"
        },
        {
         "name": "Avg_Runtime",
         "rawType": "float64",
         "type": "float"
        }
       ],
       "conversionMethod": "pd.DataFrame",
       "ref": "306ca743-2ddc-4a9a-90d3-3ff2433820b8",
       "rows": [
        [
         "0",
         "TV-PG",
         "93.7"
        ],
        [
         "1",
         "U/A",
         "102.0"
        ],
        [
         "2",
         "TV-MA",
         "106.0"
        ],
        [
         "3",
         "Passed",
         "109.9"
        ],
        [
         "4",
         "Approved",
         "111.1"
        ],
        [
         "5",
         "PG",
         "114.3"
        ],
        [
         "6",
         "PG-13",
         "117.0"
        ],
        [
         "7",
         "G",
         "119.7"
        ],
        [
         "8",
         "R",
         "122.4"
        ],
        [
         "9",
         "U",
         "124.2"
        ],
        [
         "10",
         "GP",
         "124.5"
        ],
        [
         "11",
         "A",
         "128.9"
        ],
        [
         "12",
         "UA",
         "129.3"
        ],
        [
         "13",
         "16",
         "130.0"
        ],
        [
         "14",
         "TV-14",
         "132.0"
        ],
        [
         "15",
         "Unrated",
         "183.0"
        ]
       ],
       "shape": {
        "columns": 2,
        "rows": 16
       }
      },
      "text/html": [
       "<div>\n",
       "<style scoped>\n",
       "    .dataframe tbody tr th:only-of-type {\n",
       "        vertical-align: middle;\n",
       "    }\n",
       "\n",
       "    .dataframe tbody tr th {\n",
       "        vertical-align: top;\n",
       "    }\n",
       "\n",
       "    .dataframe thead th {\n",
       "        text-align: right;\n",
       "    }\n",
       "</style>\n",
       "<table border=\"1\" class=\"dataframe\">\n",
       "  <thead>\n",
       "    <tr style=\"text-align: right;\">\n",
       "      <th></th>\n",
       "      <th>Certificate</th>\n",
       "      <th>Avg_Runtime</th>\n",
       "    </tr>\n",
       "  </thead>\n",
       "  <tbody>\n",
       "    <tr>\n",
       "      <th>0</th>\n",
       "      <td>TV-PG</td>\n",
       "      <td>93.7</td>\n",
       "    </tr>\n",
       "    <tr>\n",
       "      <th>1</th>\n",
       "      <td>U/A</td>\n",
       "      <td>102.0</td>\n",
       "    </tr>\n",
       "    <tr>\n",
       "      <th>2</th>\n",
       "      <td>TV-MA</td>\n",
       "      <td>106.0</td>\n",
       "    </tr>\n",
       "    <tr>\n",
       "      <th>3</th>\n",
       "      <td>Passed</td>\n",
       "      <td>109.9</td>\n",
       "    </tr>\n",
       "    <tr>\n",
       "      <th>4</th>\n",
       "      <td>Approved</td>\n",
       "      <td>111.1</td>\n",
       "    </tr>\n",
       "    <tr>\n",
       "      <th>5</th>\n",
       "      <td>PG</td>\n",
       "      <td>114.3</td>\n",
       "    </tr>\n",
       "    <tr>\n",
       "      <th>6</th>\n",
       "      <td>PG-13</td>\n",
       "      <td>117.0</td>\n",
       "    </tr>\n",
       "    <tr>\n",
       "      <th>7</th>\n",
       "      <td>G</td>\n",
       "      <td>119.7</td>\n",
       "    </tr>\n",
       "    <tr>\n",
       "      <th>8</th>\n",
       "      <td>R</td>\n",
       "      <td>122.4</td>\n",
       "    </tr>\n",
       "    <tr>\n",
       "      <th>9</th>\n",
       "      <td>U</td>\n",
       "      <td>124.2</td>\n",
       "    </tr>\n",
       "    <tr>\n",
       "      <th>10</th>\n",
       "      <td>GP</td>\n",
       "      <td>124.5</td>\n",
       "    </tr>\n",
       "    <tr>\n",
       "      <th>11</th>\n",
       "      <td>A</td>\n",
       "      <td>128.9</td>\n",
       "    </tr>\n",
       "    <tr>\n",
       "      <th>12</th>\n",
       "      <td>UA</td>\n",
       "      <td>129.3</td>\n",
       "    </tr>\n",
       "    <tr>\n",
       "      <th>13</th>\n",
       "      <td>16</td>\n",
       "      <td>130.0</td>\n",
       "    </tr>\n",
       "    <tr>\n",
       "      <th>14</th>\n",
       "      <td>TV-14</td>\n",
       "      <td>132.0</td>\n",
       "    </tr>\n",
       "    <tr>\n",
       "      <th>15</th>\n",
       "      <td>Unrated</td>\n",
       "      <td>183.0</td>\n",
       "    </tr>\n",
       "  </tbody>\n",
       "</table>\n",
       "</div>"
      ],
      "text/plain": [
       "   Certificate  Avg_Runtime\n",
       "0        TV-PG         93.7\n",
       "1          U/A        102.0\n",
       "2        TV-MA        106.0\n",
       "3       Passed        109.9\n",
       "4     Approved        111.1\n",
       "5           PG        114.3\n",
       "6        PG-13        117.0\n",
       "7            G        119.7\n",
       "8            R        122.4\n",
       "9            U        124.2\n",
       "10          GP        124.5\n",
       "11           A        128.9\n",
       "12          UA        129.3\n",
       "13          16        130.0\n",
       "14       TV-14        132.0\n",
       "15     Unrated        183.0"
      ]
     },
     "execution_count": 9,
     "metadata": {},
     "output_type": "execute_result"
    }
   ],
   "source": [
    "#avg runtime per certification\n",
    "new_data=pd.read_sql(\"\"\"select Certificate, round(avg(Runtime),1) as Avg_Runtime from movies\n",
    "                     group by 1\n",
    "                     order by 2 \"\"\",con)\n",
    "new_data"
   ]
  },
  {
   "cell_type": "code",
   "execution_count": 10,
   "metadata": {},
   "outputs": [
    {
     "data": {
      "application/vnd.microsoft.datawrangler.viewer.v0+json": {
       "columns": [
        {
         "name": "index",
         "rawType": "int64",
         "type": "integer"
        },
        {
         "name": "Series_Title",
         "rawType": "object",
         "type": "string"
        },
        {
         "name": "Director",
         "rawType": "object",
         "type": "string"
        }
       ],
       "conversionMethod": "pd.DataFrame",
       "ref": "cf544b62-c47f-43e8-a662-d96ddcab0664",
       "rows": [
        [
         "0",
         "The Lord of the Rings: The Return of the King",
         "Peter Jackson"
        ],
        [
         "1",
         "The Lord of the Rings: The Fellowship of the Ring",
         "Peter Jackson"
        ],
        [
         "2",
         "Soorarai Pottru",
         "Sudha Kongara"
        ],
        [
         "3",
         "Sen to Chihiro no kamikakushi",
         "Hayao Miyazaki"
        ],
        [
         "4",
         "The Prestige",
         "Christopher Nolan"
        ],
        [
         "5",
         "Kimi no na wa.",
         "Makoto Shinkai"
        ],
        [
         "6",
         "Dangal",
         "Nitesh Tiwari"
        ],
        [
         "7",
         "Spider-Man: Into the Spider-Verse",
         "Bob Persichetti"
        ],
        [
         "8",
         "Coco",
         "Lee Unkrich"
        ],
        [
         "9",
         "Taare Zameen Par",
         "Aamir Khan"
        ],
        [
         "10",
         "WALL·E",
         "Andrew Stanton"
        ],
        [
         "11",
         "Drishyam",
         "Jeethu Joseph"
        ],
        [
         "12",
         "Amélie",
         "Jean-Pierre Jeunet"
        ],
        [
         "13",
         "Bhaag Milkha Bhaag",
         "Rakeysh Omprakash Mehra"
        ],
        [
         "14",
         "Up",
         "Pete Docter"
        ],
        [
         "15",
         "Chak De! India",
         "Shimit Amin"
        ],
        [
         "16",
         "Toy Story 3",
         "Lee Unkrich"
        ],
        [
         "17",
         "Black",
         "Sanjay Leela Bhansali"
        ],
        [
         "18",
         "Swades: We, the People",
         "Ashutosh Gowariker"
        ],
        [
         "19",
         "Hauru no ugoku shiro",
         "Hayao Miyazaki"
        ],
        [
         "20",
         "Soul",
         "Pete Docter"
        ],
        [
         "21",
         "OMG: Oh My God!",
         "Umesh Shukla"
        ],
        [
         "22",
         "Ôkami kodomo no Ame to Yuki",
         "Mamoru Hosoda"
        ],
        [
         "23",
         "Inside Out",
         "Pete Docter"
        ],
        [
         "24",
         "Barfi!",
         "Anurag Basu"
        ],
        [
         "25",
         "Zindagi Na Milegi Dobara",
         "Zoya Akhtar"
        ],
        [
         "26",
         "How to Train Your Dragon",
         "Dean DeBlois"
        ],
        [
         "27",
         "Lage Raho Munna Bhai",
         "Rajkumar Hirani"
        ],
        [
         "28",
         "Munna Bhai M.B.B.S.",
         "Rajkumar Hirani"
        ],
        [
         "29",
         "Finding Nemo",
         "Andrew Stanton"
        ],
        [
         "30",
         "Monsters, Inc.",
         "Pete Docter"
        ],
        [
         "31",
         "Lagaan: Once Upon a Time in India",
         "Ashutosh Gowariker"
        ],
        [
         "32",
         "Togo",
         "Ericson Core"
        ],
        [
         "33",
         "Lion",
         "Garth Davis"
        ],
        [
         "34",
         "Zootopia",
         "Byron Howard"
        ],
        [
         "35",
         "Kaguyahime no monogatari",
         "Isao Takahata"
        ],
        [
         "36",
         "Wonder",
         "Stephen Chbosky"
        ],
        [
         "37",
         "The King's Speech",
         "Tom Hooper"
        ],
        [
         "38",
         "The Pursuit of Happyness",
         "Gabriele Muccino"
        ],
        [
         "39",
         "Bin-jip",
         "Ki-duk Kim"
        ],
        [
         "40",
         "Ratatouille",
         "Brad Bird"
        ],
        [
         "41",
         "Mar adentro",
         "Alejandro Amenábar"
        ],
        [
         "42",
         "Kal Ho Naa Ho",
         "Nikkhil Advani"
        ],
        [
         "43",
         "Big Fish",
         "Tim Burton"
        ],
        [
         "44",
         "The Incredibles",
         "Brad Bird"
        ],
        [
         "45",
         "Marriage Story",
         "Noah Baumbach"
        ],
        [
         "46",
         "Isle of Dogs",
         "Wes Anderson"
        ],
        [
         "47",
         "Star Wars: Episode VII - The Force Awakens",
         "J.J. Abrams"
        ],
        [
         "48",
         "The Artist",
         "Michel Hazanavicius"
        ],
        [
         "49",
         "Jab We Met",
         "Imtiaz Ali"
        ]
       ],
       "shape": {
        "columns": 2,
        "rows": 85
       }
      },
      "text/html": [
       "<div>\n",
       "<style scoped>\n",
       "    .dataframe tbody tr th:only-of-type {\n",
       "        vertical-align: middle;\n",
       "    }\n",
       "\n",
       "    .dataframe tbody tr th {\n",
       "        vertical-align: top;\n",
       "    }\n",
       "\n",
       "    .dataframe thead th {\n",
       "        text-align: right;\n",
       "    }\n",
       "</style>\n",
       "<table border=\"1\" class=\"dataframe\">\n",
       "  <thead>\n",
       "    <tr style=\"text-align: right;\">\n",
       "      <th></th>\n",
       "      <th>Series_Title</th>\n",
       "      <th>Director</th>\n",
       "    </tr>\n",
       "  </thead>\n",
       "  <tbody>\n",
       "    <tr>\n",
       "      <th>0</th>\n",
       "      <td>The Lord of the Rings: The Return of the King</td>\n",
       "      <td>Peter Jackson</td>\n",
       "    </tr>\n",
       "    <tr>\n",
       "      <th>1</th>\n",
       "      <td>The Lord of the Rings: The Fellowship of the Ring</td>\n",
       "      <td>Peter Jackson</td>\n",
       "    </tr>\n",
       "    <tr>\n",
       "      <th>2</th>\n",
       "      <td>Soorarai Pottru</td>\n",
       "      <td>Sudha Kongara</td>\n",
       "    </tr>\n",
       "    <tr>\n",
       "      <th>3</th>\n",
       "      <td>Sen to Chihiro no kamikakushi</td>\n",
       "      <td>Hayao Miyazaki</td>\n",
       "    </tr>\n",
       "    <tr>\n",
       "      <th>4</th>\n",
       "      <td>The Prestige</td>\n",
       "      <td>Christopher Nolan</td>\n",
       "    </tr>\n",
       "    <tr>\n",
       "      <th>...</th>\n",
       "      <td>...</td>\n",
       "      <td>...</td>\n",
       "    </tr>\n",
       "    <tr>\n",
       "      <th>80</th>\n",
       "      <td>Un long dimanche de fiançailles</td>\n",
       "      <td>Jean-Pierre Jeunet</td>\n",
       "    </tr>\n",
       "    <tr>\n",
       "      <th>81</th>\n",
       "      <td>Finding Neverland</td>\n",
       "      <td>Marc Forster</td>\n",
       "    </tr>\n",
       "    <tr>\n",
       "      <th>82</th>\n",
       "      <td>The Butterfly Effect</td>\n",
       "      <td>Eric Bress</td>\n",
       "    </tr>\n",
       "    <tr>\n",
       "      <th>83</th>\n",
       "      <td>Harry Potter and the Sorcerer's Stone</td>\n",
       "      <td>Chris Columbus</td>\n",
       "    </tr>\n",
       "    <tr>\n",
       "      <th>84</th>\n",
       "      <td>Apollo 13</td>\n",
       "      <td>Ron Howard</td>\n",
       "    </tr>\n",
       "  </tbody>\n",
       "</table>\n",
       "<p>85 rows × 2 columns</p>\n",
       "</div>"
      ],
      "text/plain": [
       "                                         Series_Title            Director\n",
       "0       The Lord of the Rings: The Return of the King       Peter Jackson\n",
       "1   The Lord of the Rings: The Fellowship of the Ring       Peter Jackson\n",
       "2                                     Soorarai Pottru       Sudha Kongara\n",
       "3                       Sen to Chihiro no kamikakushi      Hayao Miyazaki\n",
       "4                                        The Prestige   Christopher Nolan\n",
       "..                                                ...                 ...\n",
       "80                    Un long dimanche de fiançailles  Jean-Pierre Jeunet\n",
       "81                                  Finding Neverland        Marc Forster\n",
       "82                               The Butterfly Effect          Eric Bress\n",
       "83              Harry Potter and the Sorcerer's Stone      Chris Columbus\n",
       "84                                          Apollo 13          Ron Howard\n",
       "\n",
       "[85 rows x 2 columns]"
      ]
     },
     "execution_count": 10,
     "metadata": {},
     "output_type": "execute_result"
    }
   ],
   "source": [
    "#movies and directors based on some conditions\n",
    "new_data=pd.read_sql(\"\"\"select Series_Title, Director from movies\n",
    "                     where Released_Year>2000 and Certificate=\"U\"\n",
    "                      \"\"\",con)\n",
    "new_data"
   ]
  },
  {
   "cell_type": "code",
   "execution_count": 11,
   "metadata": {},
   "outputs": [
    {
     "data": {
      "application/vnd.microsoft.datawrangler.viewer.v0+json": {
       "columns": [
        {
         "name": "index",
         "rawType": "int64",
         "type": "integer"
        },
        {
         "name": "Director",
         "rawType": "object",
         "type": "string"
        },
        {
         "name": "Avg_Imdb_Rating",
         "rawType": "float64",
         "type": "float"
        }
       ],
       "conversionMethod": "pd.DataFrame",
       "ref": "a047adb3-fe6b-45ac-aca1-574d464d8342",
       "rows": [
        [
         "0",
         "Alex Proyas",
         "7.6"
        ],
        [
         "1",
         "Aneesh Chaganty",
         "7.6"
        ],
        [
         "2",
         "Bennett Miller",
         "7.6"
        ],
        [
         "3",
         "Blake Edwards",
         "7.6"
        ],
        [
         "4",
         "Bradley Cooper",
         "7.6"
        ],
        [
         "5",
         "Charlie Kaufman",
         "7.6"
        ],
        [
         "6",
         "Chris Columbus",
         "7.6"
        ],
        [
         "7",
         "Daniel Monzón",
         "7.6"
        ],
        [
         "8",
         "David Ayer",
         "7.6"
        ],
        [
         "9",
         "David Cronenberg",
         "7.6"
        ],
        [
         "10",
         "David Mackenzie",
         "7.6"
        ],
        [
         "11",
         "David Zucker",
         "7.6"
        ],
        [
         "12",
         "Deniz Gamze Ergüven",
         "7.6"
        ],
        [
         "13",
         "Dennis Gansel",
         "7.6"
        ],
        [
         "14",
         "Eric Bress",
         "7.6"
        ],
        [
         "15",
         "George Stevens",
         "7.6"
        ],
        [
         "16",
         "Gregg Araki",
         "7.6"
        ],
        [
         "17",
         "Hiromasa Yonebayashi",
         "7.6"
        ],
        [
         "18",
         "James Frawley",
         "7.6"
        ],
        [
         "19",
         "James Wan",
         "7.6"
        ],
        [
         "20",
         "Joel Schumacher",
         "7.6"
        ],
        [
         "21",
         "John Lee Hancock",
         "7.6"
        ],
        [
         "22",
         "Jonathan Levine",
         "7.6"
        ],
        [
         "23",
         "Jonathan Lynn",
         "7.6"
        ],
        [
         "24",
         "Joseph Kosinski",
         "7.6"
        ],
        [
         "25",
         "Kinji Fukasaku",
         "7.6"
        ],
        [
         "26",
         "Marc Caro",
         "7.6"
        ],
        [
         "27",
         "Marc Forster",
         "7.6"
        ],
        [
         "28",
         "Mark Rydell",
         "7.6"
        ],
        [
         "29",
         "Martin Rosen",
         "7.6"
        ],
        [
         "30",
         "Mary Harron",
         "7.6"
        ],
        [
         "31",
         "Matt Reeves",
         "7.6"
        ],
        [
         "32",
         "Neil Burger",
         "7.6"
        ],
        [
         "33",
         "Olivier Dahan",
         "7.6"
        ],
        [
         "34",
         "Pierre Coffin",
         "7.6"
        ],
        [
         "35",
         "Richard Lester",
         "7.6"
        ],
        [
         "36",
         "Ronny Yu",
         "7.6"
        ],
        [
         "37",
         "Ruben Fleischer",
         "7.6"
        ],
        [
         "38",
         "Ryan Coogler",
         "7.6"
        ],
        [
         "39",
         "Sean Baker",
         "7.6"
        ],
        [
         "40",
         "Sebastian Schipper",
         "7.6"
        ],
        [
         "41",
         "Stephen Frears",
         "7.6"
        ],
        [
         "42",
         "Ted Demme",
         "7.6"
        ],
        [
         "43",
         "Todd Haynes",
         "7.6"
        ],
        [
         "44",
         "Tom Tykwer",
         "7.6"
        ],
        [
         "45",
         "Tony Bancroft",
         "7.6"
        ],
        [
         "46",
         "Tyler Nilson",
         "7.6"
        ],
        [
         "47",
         "Walter Hill",
         "7.6"
        ],
        [
         "48",
         "Wolfgang Reitherman",
         "7.6"
        ],
        [
         "49",
         "Yann Samuell",
         "7.6"
        ]
       ],
       "shape": {
        "columns": 2,
        "rows": 548
       }
      },
      "text/html": [
       "<div>\n",
       "<style scoped>\n",
       "    .dataframe tbody tr th:only-of-type {\n",
       "        vertical-align: middle;\n",
       "    }\n",
       "\n",
       "    .dataframe tbody tr th {\n",
       "        vertical-align: top;\n",
       "    }\n",
       "\n",
       "    .dataframe thead th {\n",
       "        text-align: right;\n",
       "    }\n",
       "</style>\n",
       "<table border=\"1\" class=\"dataframe\">\n",
       "  <thead>\n",
       "    <tr style=\"text-align: right;\">\n",
       "      <th></th>\n",
       "      <th>Director</th>\n",
       "      <th>Avg_Imdb_Rating</th>\n",
       "    </tr>\n",
       "  </thead>\n",
       "  <tbody>\n",
       "    <tr>\n",
       "      <th>0</th>\n",
       "      <td>Alex Proyas</td>\n",
       "      <td>7.6</td>\n",
       "    </tr>\n",
       "    <tr>\n",
       "      <th>1</th>\n",
       "      <td>Aneesh Chaganty</td>\n",
       "      <td>7.6</td>\n",
       "    </tr>\n",
       "    <tr>\n",
       "      <th>2</th>\n",
       "      <td>Bennett Miller</td>\n",
       "      <td>7.6</td>\n",
       "    </tr>\n",
       "    <tr>\n",
       "      <th>3</th>\n",
       "      <td>Blake Edwards</td>\n",
       "      <td>7.6</td>\n",
       "    </tr>\n",
       "    <tr>\n",
       "      <th>4</th>\n",
       "      <td>Bradley Cooper</td>\n",
       "      <td>7.6</td>\n",
       "    </tr>\n",
       "    <tr>\n",
       "      <th>...</th>\n",
       "      <td>...</td>\n",
       "      <td>...</td>\n",
       "    </tr>\n",
       "    <tr>\n",
       "      <th>543</th>\n",
       "      <td>Sudha Kongara</td>\n",
       "      <td>8.6</td>\n",
       "    </tr>\n",
       "    <tr>\n",
       "      <th>544</th>\n",
       "      <td>Thomas Kail</td>\n",
       "      <td>8.6</td>\n",
       "    </tr>\n",
       "    <tr>\n",
       "      <th>545</th>\n",
       "      <td>Irvin Kershner</td>\n",
       "      <td>8.7</td>\n",
       "    </tr>\n",
       "    <tr>\n",
       "      <th>546</th>\n",
       "      <td>Lana Wachowski</td>\n",
       "      <td>8.7</td>\n",
       "    </tr>\n",
       "    <tr>\n",
       "      <th>547</th>\n",
       "      <td>Frank Darabont</td>\n",
       "      <td>9.0</td>\n",
       "    </tr>\n",
       "  </tbody>\n",
       "</table>\n",
       "<p>548 rows × 2 columns</p>\n",
       "</div>"
      ],
      "text/plain": [
       "            Director  Avg_Imdb_Rating\n",
       "0        Alex Proyas              7.6\n",
       "1    Aneesh Chaganty              7.6\n",
       "2     Bennett Miller              7.6\n",
       "3      Blake Edwards              7.6\n",
       "4     Bradley Cooper              7.6\n",
       "..               ...              ...\n",
       "543    Sudha Kongara              8.6\n",
       "544      Thomas Kail              8.6\n",
       "545   Irvin Kershner              8.7\n",
       "546   Lana Wachowski              8.7\n",
       "547   Frank Darabont              9.0\n",
       "\n",
       "[548 rows x 2 columns]"
      ]
     },
     "execution_count": 11,
     "metadata": {},
     "output_type": "execute_result"
    }
   ],
   "source": [
    "#average imdb and meta score ratings for each director\n",
    "new_data=pd.read_sql(\"\"\"select Director, round(avg(IMDB_Rating),1) as Avg_Imdb_Rating from movies\n",
    "                     group by 1\n",
    "                     order by 2\n",
    "                      \"\"\",con)\n",
    "new_data"
   ]
  },
  {
   "cell_type": "code",
   "execution_count": null,
   "metadata": {},
   "outputs": [
    {
     "data": {
      "application/vnd.microsoft.datawrangler.viewer.v0+json": {
       "columns": [
        {
         "name": "index",
         "rawType": "int64",
         "type": "integer"
        },
        {
         "name": "Director",
         "rawType": "object",
         "type": "string"
        },
        {
         "name": "Gross",
         "rawType": "object",
         "type": "string"
        }
       ],
       "conversionMethod": "pd.DataFrame",
       "ref": "090146d0-6a31-4d14-a961-b6cba4e6f56c",
       "rows": [
        [
         "0",
         "Andrey Zvyagintsev",
         "1,092,800"
        ],
        [
         "1",
         "Brian De Palma",
         "45,598,982"
        ],
        [
         "2",
         "Fernando Meirelles",
         "7,563,397"
        ],
        [
         "3",
         "Francis Ford Coppola",
         "134,966,411"
        ],
        [
         "4",
         "François Truffaut",
         "68,034,750"
        ],
        [
         "5",
         "Hirokazu Koreeda",
         "3,313,513"
        ],
        [
         "6",
         "Jacques Audiard",
         "2,084,637"
        ],
        [
         "7",
         "Jean-Luc Godard",
         "336,705"
        ],
        [
         "8",
         "John Singleton",
         "57,504,069"
        ],
        [
         "9",
         "Lars von Trier",
         "1,530,386"
        ],
        [
         "10",
         "Lee Tamahori",
         "2,201,126"
        ],
        [
         "11",
         "Lukas Moodysson",
         "181,655"
        ],
        [
         "12",
         "Martin Scorsese",
         "28,262,574"
        ],
        [
         "13",
         "Mathieu Kassovitz",
         "309,811"
        ],
        [
         "14",
         "Nicolas Winding Refn",
         "35,061,555"
        ],
        [
         "15",
         "Nuri Bilge Ceylan",
         "138,730"
        ],
        [
         "16",
         "Quentin Tarantino",
         "107,928,762"
        ],
        [
         "17",
         "Robert Mulligan",
         "68,034,750"
        ],
        [
         "18",
         "Sergio Leone",
         "5,321,508"
        ],
        [
         "19",
         "Shane Meadows",
         "327,919"
        ],
        [
         "20",
         "Sidney Lumet",
         "4,360,000"
        ],
        [
         "21",
         "Stuart Rosenberg",
         "16,217,773"
        ],
        [
         "22",
         "Taylor Hackford",
         "4,496,583"
        ]
       ],
       "shape": {
        "columns": 2,
        "rows": 23
       }
      },
      "text/html": [
       "<div>\n",
       "<style scoped>\n",
       "    .dataframe tbody tr th:only-of-type {\n",
       "        vertical-align: middle;\n",
       "    }\n",
       "\n",
       "    .dataframe tbody tr th {\n",
       "        vertical-align: top;\n",
       "    }\n",
       "\n",
       "    .dataframe thead th {\n",
       "        text-align: right;\n",
       "    }\n",
       "</style>\n",
       "<table border=\"1\" class=\"dataframe\">\n",
       "  <thead>\n",
       "    <tr style=\"text-align: right;\">\n",
       "      <th></th>\n",
       "      <th>Director</th>\n",
       "      <th>Gross</th>\n",
       "    </tr>\n",
       "  </thead>\n",
       "  <tbody>\n",
       "    <tr>\n",
       "      <th>0</th>\n",
       "      <td>Andrey Zvyagintsev</td>\n",
       "      <td>1,092,800</td>\n",
       "    </tr>\n",
       "    <tr>\n",
       "      <th>1</th>\n",
       "      <td>Brian De Palma</td>\n",
       "      <td>45,598,982</td>\n",
       "    </tr>\n",
       "    <tr>\n",
       "      <th>2</th>\n",
       "      <td>Fernando Meirelles</td>\n",
       "      <td>7,563,397</td>\n",
       "    </tr>\n",
       "    <tr>\n",
       "      <th>3</th>\n",
       "      <td>Francis Ford Coppola</td>\n",
       "      <td>134,966,411</td>\n",
       "    </tr>\n",
       "    <tr>\n",
       "      <th>4</th>\n",
       "      <td>François Truffaut</td>\n",
       "      <td>68,034,750</td>\n",
       "    </tr>\n",
       "    <tr>\n",
       "      <th>5</th>\n",
       "      <td>Hirokazu Koreeda</td>\n",
       "      <td>3,313,513</td>\n",
       "    </tr>\n",
       "    <tr>\n",
       "      <th>6</th>\n",
       "      <td>Jacques Audiard</td>\n",
       "      <td>2,084,637</td>\n",
       "    </tr>\n",
       "    <tr>\n",
       "      <th>7</th>\n",
       "      <td>Jean-Luc Godard</td>\n",
       "      <td>336,705</td>\n",
       "    </tr>\n",
       "    <tr>\n",
       "      <th>8</th>\n",
       "      <td>John Singleton</td>\n",
       "      <td>57,504,069</td>\n",
       "    </tr>\n",
       "    <tr>\n",
       "      <th>9</th>\n",
       "      <td>Lars von Trier</td>\n",
       "      <td>1,530,386</td>\n",
       "    </tr>\n",
       "    <tr>\n",
       "      <th>10</th>\n",
       "      <td>Lee Tamahori</td>\n",
       "      <td>2,201,126</td>\n",
       "    </tr>\n",
       "    <tr>\n",
       "      <th>11</th>\n",
       "      <td>Lukas Moodysson</td>\n",
       "      <td>181,655</td>\n",
       "    </tr>\n",
       "    <tr>\n",
       "      <th>12</th>\n",
       "      <td>Martin Scorsese</td>\n",
       "      <td>28,262,574</td>\n",
       "    </tr>\n",
       "    <tr>\n",
       "      <th>13</th>\n",
       "      <td>Mathieu Kassovitz</td>\n",
       "      <td>309,811</td>\n",
       "    </tr>\n",
       "    <tr>\n",
       "      <th>14</th>\n",
       "      <td>Nicolas Winding Refn</td>\n",
       "      <td>35,061,555</td>\n",
       "    </tr>\n",
       "    <tr>\n",
       "      <th>15</th>\n",
       "      <td>Nuri Bilge Ceylan</td>\n",
       "      <td>138,730</td>\n",
       "    </tr>\n",
       "    <tr>\n",
       "      <th>16</th>\n",
       "      <td>Quentin Tarantino</td>\n",
       "      <td>107,928,762</td>\n",
       "    </tr>\n",
       "    <tr>\n",
       "      <th>17</th>\n",
       "      <td>Robert Mulligan</td>\n",
       "      <td>68,034,750</td>\n",
       "    </tr>\n",
       "    <tr>\n",
       "      <th>18</th>\n",
       "      <td>Sergio Leone</td>\n",
       "      <td>5,321,508</td>\n",
       "    </tr>\n",
       "    <tr>\n",
       "      <th>19</th>\n",
       "      <td>Shane Meadows</td>\n",
       "      <td>327,919</td>\n",
       "    </tr>\n",
       "    <tr>\n",
       "      <th>20</th>\n",
       "      <td>Sidney Lumet</td>\n",
       "      <td>4,360,000</td>\n",
       "    </tr>\n",
       "    <tr>\n",
       "      <th>21</th>\n",
       "      <td>Stuart Rosenberg</td>\n",
       "      <td>16,217,773</td>\n",
       "    </tr>\n",
       "    <tr>\n",
       "      <th>22</th>\n",
       "      <td>Taylor Hackford</td>\n",
       "      <td>4,496,583</td>\n",
       "    </tr>\n",
       "  </tbody>\n",
       "</table>\n",
       "</div>"
      ],
      "text/plain": [
       "                Director        Gross\n",
       "0     Andrey Zvyagintsev    1,092,800\n",
       "1         Brian De Palma   45,598,982\n",
       "2     Fernando Meirelles    7,563,397\n",
       "3   Francis Ford Coppola  134,966,411\n",
       "4      François Truffaut   68,034,750\n",
       "5       Hirokazu Koreeda    3,313,513\n",
       "6        Jacques Audiard    2,084,637\n",
       "7        Jean-Luc Godard      336,705\n",
       "8         John Singleton   57,504,069\n",
       "9         Lars von Trier    1,530,386\n",
       "10          Lee Tamahori    2,201,126\n",
       "11       Lukas Moodysson      181,655\n",
       "12       Martin Scorsese   28,262,574\n",
       "13     Mathieu Kassovitz      309,811\n",
       "14  Nicolas Winding Refn   35,061,555\n",
       "15     Nuri Bilge Ceylan      138,730\n",
       "16     Quentin Tarantino  107,928,762\n",
       "17       Robert Mulligan   68,034,750\n",
       "18          Sergio Leone    5,321,508\n",
       "19         Shane Meadows      327,919\n",
       "20          Sidney Lumet    4,360,000\n",
       "21      Stuart Rosenberg   16,217,773\n",
       "22       Taylor Hackford    4,496,583"
      ]
     },
     "execution_count": 26,
     "metadata": {},
     "output_type": "execute_result"
    }
   ],
   "source": [
    "new_data=pd.read_sql(\"\"\"select Director, Gross from movies where Genre=\"Crime, Drama\"\n",
    "                     group by 1\n",
    "                      \"\"\",con)\n",
    "new_data"
   ]
  }
 ],
 "metadata": {
  "kernelspec": {
   "display_name": "Python 3",
   "language": "python",
   "name": "python3"
  },
  "language_info": {
   "codemirror_mode": {
    "name": "ipython",
    "version": 3
   },
   "file_extension": ".py",
   "mimetype": "text/x-python",
   "name": "python",
   "nbconvert_exporter": "python",
   "pygments_lexer": "ipython3",
   "version": "3.10.5"
  }
 },
 "nbformat": 4,
 "nbformat_minor": 2
}
